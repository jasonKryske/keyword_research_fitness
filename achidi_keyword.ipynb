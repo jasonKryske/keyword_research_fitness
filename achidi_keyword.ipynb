{
 "cells": [
  {
   "metadata": {},
   "cell_type": "markdown",
   "source": "This notebook is for preparing, processing, and analyzing the keywords lists exported from Moz. This list will then e exported as both a CSV and Excel file, then sent to the site owner for their copy team to update their website.",
   "id": "ee7c4b2eb8abb8ad"
  },
  {
   "metadata": {},
   "cell_type": "markdown",
   "source": "# Library and File Import",
   "id": "c9fd9b500c4a8712"
  },
  {
   "cell_type": "code",
   "id": "initial_id",
   "metadata": {
    "collapsed": true,
    "ExecuteTime": {
     "end_time": "2024-09-03T21:10:56.606532Z",
     "start_time": "2024-09-03T21:10:56.585531Z"
    }
   },
   "source": [
    "import pandas as pd\n",
    "from SEO_module import (\n",
    "                         search_volume_level,\n",
    "                         difficulty_level\n",
    "                        )"
   ],
   "outputs": [],
   "execution_count": 2
  },
  {
   "metadata": {},
   "cell_type": "markdown",
   "source": "\n",
   "id": "e8ef1db1513a09b2"
  },
  {
   "metadata": {
    "ExecuteTime": {
     "end_time": "2024-09-03T21:10:56.747119Z",
     "start_time": "2024-09-03T21:10:56.635316Z"
    }
   },
   "cell_type": "code",
   "source": [
    "fitProgram12 = pd.read_csv(\"source_files/Moz Keyword Explorer '12 week fitness program' 2024-09-03.csv\")\n",
    "muscleGain40 = pd.read_csv(\"source_files/Moz Keyword Explorer 'gain muscle over 40' 2024-08-12.csv\")\n",
    "buildMuscleBurnFat = pd.read_csv(\"source_files/Moz Keyword Explorer 'how to build muscle and burn fat' 2024-09-03.csv\")\n",
    "loseBeerBelly = pd.read_csv(\"source_files/Moz Keyword Explorer 'how to lose beer belly' 2024-09-03.csv\")\n",
    "onlineFitCoach = pd.read_csv(\"source_files/Moz Keyword Explorer 'online fitness coach for middle aged male' 2024-09-03.csv\")\n",
    "onlineTrainer = pd.read_csv(\"source_files/Moz Keyword Explorer 'online personal trainer for weight loss' 2024-08-12.csv\")\n",
    "fit_program_12 = pd.read_csv(\"source_files/Moz Keyword Explorer 'Too Tired to workout' 2024-08-12.csv\")\n",
    "fitProgramTwelve = pd.read_csv(\"source_files/Moz Keyword Explorer 'twelve  week fitness program' 2024-09-03.csv\")\n",
    "whereToStart = pd.read_csv(\"source_files/Moz Keyword Explorer 'where to start weight loss' 2024-08-12.csv\")\n",
    "alwaysTired = pd.read_csv(\"source_files/Moz Keyword Explorer 'why am i always tired' 2024-08-13.csv\")"
   ],
   "id": "26328305db9e0bca",
   "outputs": [],
   "execution_count": 3
  },
  {
   "metadata": {},
   "cell_type": "markdown",
   "source": "# Append the dataframes into one dataframe",
   "id": "def4a9f30407d1a0"
  },
  {
   "metadata": {
    "ExecuteTime": {
     "end_time": "2024-09-03T21:10:57.496942Z",
     "start_time": "2024-09-03T21:10:57.453911Z"
    }
   },
   "cell_type": "code",
   "source": [
    "full_keyword_list = pd.concat(\n",
    "    [fitProgram12, \n",
    "     muscleGain40, \n",
    "     buildMuscleBurnFat, \n",
    "     loseBeerBelly, \n",
    "     onlineFitCoach, \n",
    "     onlineTrainer, \n",
    "     fit_program_12, \n",
    "     fitProgramTwelve, \n",
    "     whereToStart, \n",
    "     alwaysTired\n",
    "     ])"
   ],
   "id": "dd1ee2c115d82260",
   "outputs": [],
   "execution_count": 4
  },
  {
   "metadata": {},
   "cell_type": "markdown",
   "source": "# Keyword Exploration",
   "id": "230c7011edcdfcbc"
  },
  {
   "metadata": {
    "ExecuteTime": {
     "end_time": "2024-09-03T21:10:57.543956Z",
     "start_time": "2024-09-03T21:10:57.510963Z"
    }
   },
   "cell_type": "code",
   "source": "full_keyword_list.info()",
   "id": "4db889e5f089a53e",
   "outputs": [
    {
     "name": "stdout",
     "output_type": "stream",
     "text": [
      "<class 'pandas.core.frame.DataFrame'>\n",
      "Int64Index: 10000 entries, 0 to 999\n",
      "Data columns (total 10 columns):\n",
      " #   Column              Non-Null Count  Dtype  \n",
      "---  ------              --------------  -----  \n",
      " 0   Keyword             10000 non-null  object \n",
      " 1   Tracked             10000 non-null  bool   \n",
      " 2   Campaigns           0 non-null      float64\n",
      " 3   Min Monthly Volume  4789 non-null   float64\n",
      " 4   Max Monthly Volume  6959 non-null   float64\n",
      " 5   Relevancy           10000 non-null  float64\n",
      " 6   Monthly Volume      6959 non-null   float64\n",
      " 7   Search Intent       2656 non-null   object \n",
      " 8   Difficulty          2656 non-null   float64\n",
      " 9   Last Updated        2656 non-null   object \n",
      "dtypes: bool(1), float64(6), object(3)\n",
      "memory usage: 791.0+ KB\n"
     ]
    }
   ],
   "execution_count": 5
  },
  {
   "metadata": {
    "ExecuteTime": {
     "end_time": "2024-09-03T21:10:57.748426Z",
     "start_time": "2024-09-03T21:10:57.703097Z"
    }
   },
   "cell_type": "code",
   "source": "full_keyword_list.head()",
   "id": "4698e78fccd7f40f",
   "outputs": [
    {
     "data": {
      "text/plain": [
       "                                Keyword  Tracked  Campaigns  \\\n",
       "0                      gym workout plan    False        NaN   \n",
       "1          body transformation 3 months    False        NaN   \n",
       "2                  12 week workout plan    False        NaN   \n",
       "3  workout plan for women's weight loss    False        NaN   \n",
       "4      weight loss workout plan for men    False        NaN   \n",
       "\n",
       "   Min Monthly Volume  Max Monthly Volume  Relevancy  Monthly Volume  \\\n",
       "0              1701.0              2900.0   0.830630          1825.0   \n",
       "1               851.0              1700.0   0.830078           941.0   \n",
       "2               851.0              1700.0   0.866769           907.0   \n",
       "3               501.0               850.0   0.829928           800.0   \n",
       "4               501.0               850.0   0.829742           660.0   \n",
       "\n",
       "   Search Intent  Difficulty Last Updated  \n",
       "0     commercial        56.0   2024-08-24  \n",
       "1            NaN         NaN          NaN  \n",
       "2            NaN         NaN          NaN  \n",
       "3  informational        42.0   2024-08-01  \n",
       "4  informational        43.0   2024-08-23  "
      ],
      "text/html": [
       "<div>\n",
       "<style scoped>\n",
       "    .dataframe tbody tr th:only-of-type {\n",
       "        vertical-align: middle;\n",
       "    }\n",
       "\n",
       "    .dataframe tbody tr th {\n",
       "        vertical-align: top;\n",
       "    }\n",
       "\n",
       "    .dataframe thead th {\n",
       "        text-align: right;\n",
       "    }\n",
       "</style>\n",
       "<table border=\"1\" class=\"dataframe\">\n",
       "  <thead>\n",
       "    <tr style=\"text-align: right;\">\n",
       "      <th></th>\n",
       "      <th>Keyword</th>\n",
       "      <th>Tracked</th>\n",
       "      <th>Campaigns</th>\n",
       "      <th>Min Monthly Volume</th>\n",
       "      <th>Max Monthly Volume</th>\n",
       "      <th>Relevancy</th>\n",
       "      <th>Monthly Volume</th>\n",
       "      <th>Search Intent</th>\n",
       "      <th>Difficulty</th>\n",
       "      <th>Last Updated</th>\n",
       "    </tr>\n",
       "  </thead>\n",
       "  <tbody>\n",
       "    <tr>\n",
       "      <th>0</th>\n",
       "      <td>gym workout plan</td>\n",
       "      <td>False</td>\n",
       "      <td>NaN</td>\n",
       "      <td>1701.0</td>\n",
       "      <td>2900.0</td>\n",
       "      <td>0.830630</td>\n",
       "      <td>1825.0</td>\n",
       "      <td>commercial</td>\n",
       "      <td>56.0</td>\n",
       "      <td>2024-08-24</td>\n",
       "    </tr>\n",
       "    <tr>\n",
       "      <th>1</th>\n",
       "      <td>body transformation 3 months</td>\n",
       "      <td>False</td>\n",
       "      <td>NaN</td>\n",
       "      <td>851.0</td>\n",
       "      <td>1700.0</td>\n",
       "      <td>0.830078</td>\n",
       "      <td>941.0</td>\n",
       "      <td>NaN</td>\n",
       "      <td>NaN</td>\n",
       "      <td>NaN</td>\n",
       "    </tr>\n",
       "    <tr>\n",
       "      <th>2</th>\n",
       "      <td>12 week workout plan</td>\n",
       "      <td>False</td>\n",
       "      <td>NaN</td>\n",
       "      <td>851.0</td>\n",
       "      <td>1700.0</td>\n",
       "      <td>0.866769</td>\n",
       "      <td>907.0</td>\n",
       "      <td>NaN</td>\n",
       "      <td>NaN</td>\n",
       "      <td>NaN</td>\n",
       "    </tr>\n",
       "    <tr>\n",
       "      <th>3</th>\n",
       "      <td>workout plan for women's weight loss</td>\n",
       "      <td>False</td>\n",
       "      <td>NaN</td>\n",
       "      <td>501.0</td>\n",
       "      <td>850.0</td>\n",
       "      <td>0.829928</td>\n",
       "      <td>800.0</td>\n",
       "      <td>informational</td>\n",
       "      <td>42.0</td>\n",
       "      <td>2024-08-01</td>\n",
       "    </tr>\n",
       "    <tr>\n",
       "      <th>4</th>\n",
       "      <td>weight loss workout plan for men</td>\n",
       "      <td>False</td>\n",
       "      <td>NaN</td>\n",
       "      <td>501.0</td>\n",
       "      <td>850.0</td>\n",
       "      <td>0.829742</td>\n",
       "      <td>660.0</td>\n",
       "      <td>informational</td>\n",
       "      <td>43.0</td>\n",
       "      <td>2024-08-23</td>\n",
       "    </tr>\n",
       "  </tbody>\n",
       "</table>\n",
       "</div>"
      ]
     },
     "execution_count": 6,
     "metadata": {},
     "output_type": "execute_result"
    }
   ],
   "execution_count": 6
  },
  {
   "metadata": {},
   "cell_type": "markdown",
   "source": "# Column Cleaning/Preparation",
   "id": "6df34a2b22f6aa9"
  },
  {
   "metadata": {
    "ExecuteTime": {
     "end_time": "2024-09-03T21:10:58.578378Z",
     "start_time": "2024-09-03T21:10:58.567639Z"
    }
   },
   "cell_type": "code",
   "source": "columns_to_drop = ['Tracked', 'Campaigns']",
   "id": "91e6e66d1d39f742",
   "outputs": [],
   "execution_count": 7
  },
  {
   "metadata": {
    "ExecuteTime": {
     "end_time": "2024-09-03T21:10:58.795267Z",
     "start_time": "2024-09-03T21:10:58.769290Z"
    }
   },
   "cell_type": "code",
   "source": "full_keyword_list.drop(columns = columns_to_drop, inplace = True)",
   "id": "9a4138658b79718",
   "outputs": [],
   "execution_count": 8
  },
  {
   "metadata": {},
   "cell_type": "markdown",
   "source": "**Volume**",
   "id": "6ac1e8a70b50189"
  },
  {
   "metadata": {
    "ExecuteTime": {
     "end_time": "2024-09-03T21:10:58.953055Z",
     "start_time": "2024-09-03T21:10:58.935688Z"
    }
   },
   "cell_type": "code",
   "source": "full_keyword_list['search_volume_level'] = full_keyword_list['Monthly Volume'].apply(search_volume_level)",
   "id": "6e24870a3f39df74",
   "outputs": [],
   "execution_count": 9
  },
  {
   "metadata": {
    "ExecuteTime": {
     "end_time": "2024-09-03T21:10:59.712201Z",
     "start_time": "2024-09-03T21:10:59.648518Z"
    }
   },
   "cell_type": "code",
   "source": "full_keyword_list['search_volume_level'].value_counts()",
   "id": "81db57ded976880d",
   "outputs": [
    {
     "data": {
      "text/plain": [
       "too low    8848\n",
       "ideal       751\n",
       "backup      401\n",
       "Name: search_volume_level, dtype: int64"
      ]
     },
     "execution_count": 10,
     "metadata": {},
     "output_type": "execute_result"
    }
   ],
   "execution_count": 10
  },
  {
   "metadata": {},
   "cell_type": "markdown",
   "source": "**Difficulty**",
   "id": "87a87f212d8e70e4"
  },
  {
   "metadata": {
    "ExecuteTime": {
     "end_time": "2024-09-03T21:10:59.844798Z",
     "start_time": "2024-09-03T21:10:59.818289Z"
    }
   },
   "cell_type": "code",
   "source": "full_keyword_list['difficulty_level'] = full_keyword_list['Difficulty'].apply(difficulty_level)",
   "id": "4757021e3ae39503",
   "outputs": [],
   "execution_count": 11
  },
  {
   "metadata": {
    "ExecuteTime": {
     "end_time": "2024-09-03T21:10:59.986871Z",
     "start_time": "2024-09-03T21:10:59.974469Z"
    }
   },
   "cell_type": "code",
   "source": "full_keyword_list['difficulty_level'].value_counts()",
   "id": "75e14c209675fc99",
   "outputs": [
    {
     "data": {
      "text/plain": [
       "difficult    8041\n",
       "medium       1899\n",
       "easy           60\n",
       "Name: difficulty_level, dtype: int64"
      ]
     },
     "execution_count": 12,
     "metadata": {},
     "output_type": "execute_result"
    }
   ],
   "execution_count": 12
  },
  {
   "metadata": {},
   "cell_type": "markdown",
   "source": "# Filter Rows",
   "id": "36fd0a00dc7ee745"
  },
  {
   "metadata": {
    "ExecuteTime": {
     "end_time": "2024-09-03T21:11:00.283946Z",
     "start_time": "2024-09-03T21:11:00.271005Z"
    }
   },
   "cell_type": "code",
   "source": [
    "ideal_filter = (\n",
    "        (full_keyword_list['search_volume_level'] == 'ideal') &\n",
    "        (full_keyword_list['difficulty_level'] == 'easy')\n",
    ")\n"
   ],
   "id": "e3d889f6bdf549a5",
   "outputs": [],
   "execution_count": 13
  },
  {
   "metadata": {
    "ExecuteTime": {
     "end_time": "2024-09-03T21:11:00.625576Z",
     "start_time": "2024-09-03T21:11:00.597820Z"
    }
   },
   "cell_type": "code",
   "source": [
    "backup_filter = (\n",
    "        (full_keyword_list['search_volume_level'] != 'too low') &\n",
    "        (full_keyword_list['difficulty_level'] != 'difficult')\n",
    ")\n"
   ],
   "id": "d82b2dfbfd3cc69e",
   "outputs": [],
   "execution_count": 14
  },
  {
   "metadata": {
    "ExecuteTime": {
     "end_time": "2024-09-03T21:11:01.001812Z",
     "start_time": "2024-09-03T21:11:00.949962Z"
    }
   },
   "cell_type": "code",
   "source": "full_keyword_list[ideal_filter]",
   "id": "61cb6dc06867a90a",
   "outputs": [
    {
     "data": {
      "text/plain": [
       "                              Keyword  Min Monthly Volume  Max Monthly Volume  \\\n",
       "186                       muscle burn               201.0               500.0   \n",
       "168  personal trainer for weight loss               501.0               850.0   \n",
       "\n",
       "     Relevancy  Monthly Volume  Search Intent  Difficulty Last Updated  \\\n",
       "186   0.266217           500.0  informational        24.0   2023-07-28   \n",
       "168   0.489230           513.0  informational        26.0   2024-01-05   \n",
       "\n",
       "    search_volume_level difficulty_level  \n",
       "186               ideal             easy  \n",
       "168               ideal             easy  "
      ],
      "text/html": [
       "<div>\n",
       "<style scoped>\n",
       "    .dataframe tbody tr th:only-of-type {\n",
       "        vertical-align: middle;\n",
       "    }\n",
       "\n",
       "    .dataframe tbody tr th {\n",
       "        vertical-align: top;\n",
       "    }\n",
       "\n",
       "    .dataframe thead th {\n",
       "        text-align: right;\n",
       "    }\n",
       "</style>\n",
       "<table border=\"1\" class=\"dataframe\">\n",
       "  <thead>\n",
       "    <tr style=\"text-align: right;\">\n",
       "      <th></th>\n",
       "      <th>Keyword</th>\n",
       "      <th>Min Monthly Volume</th>\n",
       "      <th>Max Monthly Volume</th>\n",
       "      <th>Relevancy</th>\n",
       "      <th>Monthly Volume</th>\n",
       "      <th>Search Intent</th>\n",
       "      <th>Difficulty</th>\n",
       "      <th>Last Updated</th>\n",
       "      <th>search_volume_level</th>\n",
       "      <th>difficulty_level</th>\n",
       "    </tr>\n",
       "  </thead>\n",
       "  <tbody>\n",
       "    <tr>\n",
       "      <th>186</th>\n",
       "      <td>muscle burn</td>\n",
       "      <td>201.0</td>\n",
       "      <td>500.0</td>\n",
       "      <td>0.266217</td>\n",
       "      <td>500.0</td>\n",
       "      <td>informational</td>\n",
       "      <td>24.0</td>\n",
       "      <td>2023-07-28</td>\n",
       "      <td>ideal</td>\n",
       "      <td>easy</td>\n",
       "    </tr>\n",
       "    <tr>\n",
       "      <th>168</th>\n",
       "      <td>personal trainer for weight loss</td>\n",
       "      <td>501.0</td>\n",
       "      <td>850.0</td>\n",
       "      <td>0.489230</td>\n",
       "      <td>513.0</td>\n",
       "      <td>informational</td>\n",
       "      <td>26.0</td>\n",
       "      <td>2024-01-05</td>\n",
       "      <td>ideal</td>\n",
       "      <td>easy</td>\n",
       "    </tr>\n",
       "  </tbody>\n",
       "</table>\n",
       "</div>"
      ]
     },
     "execution_count": 15,
     "metadata": {},
     "output_type": "execute_result"
    }
   ],
   "execution_count": 15
  },
  {
   "metadata": {
    "ExecuteTime": {
     "end_time": "2024-09-03T21:11:01.250560Z",
     "start_time": "2024-09-03T21:11:01.238887Z"
    }
   },
   "cell_type": "code",
   "source": "achidi_list = full_keyword_list[backup_filter]",
   "id": "ea16e9fdff4cf67c",
   "outputs": [],
   "execution_count": 16
  },
  {
   "metadata": {},
   "cell_type": "markdown",
   "source": "",
   "id": "ce09cd17fd11d580"
  },
  {
   "metadata": {
    "ExecuteTime": {
     "end_time": "2024-09-03T21:11:01.390535Z",
     "start_time": "2024-09-03T21:11:01.362286Z"
    }
   },
   "cell_type": "code",
   "source": "achidi_list.to_csv('export/keyword_list.csv', index = False)",
   "id": "c98d69ccf4f53a53",
   "outputs": [],
   "execution_count": 17
  }
 ],
 "metadata": {
  "kernelspec": {
   "display_name": "Python 3",
   "language": "python",
   "name": "python3"
  },
  "language_info": {
   "codemirror_mode": {
    "name": "ipython",
    "version": 2
   },
   "file_extension": ".py",
   "mimetype": "text/x-python",
   "name": "python",
   "nbconvert_exporter": "python",
   "pygments_lexer": "ipython2",
   "version": "2.7.6"
  }
 },
 "nbformat": 4,
 "nbformat_minor": 5
}
