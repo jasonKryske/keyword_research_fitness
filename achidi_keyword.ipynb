{
 "cells": [
  {
   "metadata": {},
   "cell_type": "markdown",
   "source": "This notebook is for preparing, processing, and analyzing the keywords lists exported from Moz. This list will then e exported as both a CSV and Excel file, then sent to the site owner for their copy team to update their website.",
   "id": "ee7c4b2eb8abb8ad"
  },
  {
   "metadata": {},
   "cell_type": "markdown",
   "source": "# Library and File Import",
   "id": "c9fd9b500c4a8712"
  },
  {
   "cell_type": "code",
   "id": "initial_id",
   "metadata": {
    "collapsed": true,
    "ExecuteTime": {
     "end_time": "2024-09-03T14:57:45.931617Z",
     "start_time": "2024-09-03T14:57:44.716010Z"
    }
   },
   "source": "import pandas as pd",
   "outputs": [],
   "execution_count": 1
  },
  {
   "metadata": {},
   "cell_type": "markdown",
   "source": "\n",
   "id": "e8ef1db1513a09b2"
  },
  {
   "metadata": {
    "ExecuteTime": {
     "end_time": "2024-09-03T20:12:51.596260Z",
     "start_time": "2024-09-03T20:12:51.480989Z"
    }
   },
   "cell_type": "code",
   "source": [
    "fitProgram12 = pd.read_csv(\"Moz Keyword Explorer '12 week fitness program' 2024-09-03.csv\")\n",
    "muscleGain40 = pd.read_csv(\"Moz Keyword Explorer 'gain muscle over 40' 2024-08-12.csv\")\n",
    "buildMuscleBurnFat = pd.read_csv(\"Moz Keyword Explorer 'how to build muscle and burn fat' 2024-09-03.csv\")\n",
    "loseBeerBelly = pd.read_csv(\"Moz Keyword Explorer 'how to lose beer belly' 2024-09-03.csv\")\n",
    "onlineFitCoach = pd.read_csv(\"Moz Keyword Explorer 'online fitness coach for middle aged male' 2024-09-03.csv\")\n",
    "onlineTrainer = pd.read_csv(\"Moz Keyword Explorer 'online personal trainer for weight loss' 2024-08-12.csv\")\n",
    "fit_program_12 = pd.read_csv(\"Moz Keyword Explorer 'Too Tired to workout' 2024-08-12.csv\")\n",
    "fitProgramTwelve = pd.read_csv(\"Moz Keyword Explorer 'twelve  week fitness program' 2024-09-03.csv\")\n",
    "whereToStart = pd.read_csv(\"Moz Keyword Explorer 'where to start weight loss' 2024-08-12.csv\")\n",
    "alwaysTired = pd.read_csv(\"Moz Keyword Explorer 'why am i always tired' 2024-08-13.csv\")"
   ],
   "id": "26328305db9e0bca",
   "outputs": [],
   "execution_count": 7
  },
  {
   "metadata": {},
   "cell_type": "code",
   "outputs": [],
   "execution_count": null,
   "source": "",
   "id": "135fddc420f9017e"
  }
 ],
 "metadata": {
  "kernelspec": {
   "display_name": "Python 3",
   "language": "python",
   "name": "python3"
  },
  "language_info": {
   "codemirror_mode": {
    "name": "ipython",
    "version": 2
   },
   "file_extension": ".py",
   "mimetype": "text/x-python",
   "name": "python",
   "nbconvert_exporter": "python",
   "pygments_lexer": "ipython2",
   "version": "2.7.6"
  }
 },
 "nbformat": 4,
 "nbformat_minor": 5
}
